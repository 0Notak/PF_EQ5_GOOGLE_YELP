{
 "cells": [
  {
   "cell_type": "markdown",
   "metadata": {},
   "source": [
    "# CODIGOS PARA HACER LA CONECCION VIA PYTHON A GCP"
   ]
  },
  {
   "cell_type": "markdown",
   "metadata": {},
   "source": [
    "### Coneccion a Cloud SQL"
   ]
  },
  {
   "cell_type": "code",
   "execution_count": 7,
   "metadata": {},
   "outputs": [
    {
     "data": {
      "text/html": [
       "<div>\n",
       "<style scoped>\n",
       "    .dataframe tbody tr th:only-of-type {\n",
       "        vertical-align: middle;\n",
       "    }\n",
       "\n",
       "    .dataframe tbody tr th {\n",
       "        vertical-align: top;\n",
       "    }\n",
       "\n",
       "    .dataframe thead th {\n",
       "        text-align: right;\n",
       "    }\n",
       "</style>\n",
       "<table border=\"1\" class=\"dataframe\">\n",
       "  <thead>\n",
       "    <tr style=\"text-align: right;\">\n",
       "      <th></th>\n",
       "      <th>0</th>\n",
       "      <th>1</th>\n",
       "      <th>2</th>\n",
       "      <th>3</th>\n",
       "      <th>4</th>\n",
       "      <th>5</th>\n",
       "      <th>6</th>\n",
       "    </tr>\n",
       "  </thead>\n",
       "  <tbody>\n",
       "    <tr>\n",
       "      <th>0</th>\n",
       "      <td>CF33F8-E6oudUQ46HnavjQ</td>\n",
       "      <td>Sonic Drive-In</td>\n",
       "      <td>Ashland City</td>\n",
       "      <td>AZ</td>\n",
       "      <td>2.0</td>\n",
       "      <td>6</td>\n",
       "      <td>1</td>\n",
       "    </tr>\n",
       "    <tr>\n",
       "      <th>1</th>\n",
       "      <td>ROeacJQwBeh05Rqg7F6TCg</td>\n",
       "      <td>BAP</td>\n",
       "      <td>Philadelphia</td>\n",
       "      <td>AZ</td>\n",
       "      <td>4.5</td>\n",
       "      <td>205</td>\n",
       "      <td>1</td>\n",
       "    </tr>\n",
       "    <tr>\n",
       "      <th>2</th>\n",
       "      <td>bCBPXIVfVzBZBEpFu29dcg</td>\n",
       "      <td>All In Shipping</td>\n",
       "      <td>Belleville</td>\n",
       "      <td>AZ</td>\n",
       "      <td>5.0</td>\n",
       "      <td>5</td>\n",
       "      <td>1</td>\n",
       "    </tr>\n",
       "    <tr>\n",
       "      <th>3</th>\n",
       "      <td>JgpnXv_0XhV3SfbfB50nxw</td>\n",
       "      <td>Joe's Pizza</td>\n",
       "      <td>Tampa</td>\n",
       "      <td>AZ</td>\n",
       "      <td>4.0</td>\n",
       "      <td>35</td>\n",
       "      <td>0</td>\n",
       "    </tr>\n",
       "    <tr>\n",
       "      <th>4</th>\n",
       "      <td>gbN4RuUiiBxQ2GBFQ2p3Cw</td>\n",
       "      <td>Mr. Margarita</td>\n",
       "      <td>Fernley</td>\n",
       "      <td>AZ</td>\n",
       "      <td>5.0</td>\n",
       "      <td>7</td>\n",
       "      <td>1</td>\n",
       "    </tr>\n",
       "  </tbody>\n",
       "</table>\n",
       "</div>"
      ],
      "text/plain": [
       "                        0                1             2   3    4    5  6\n",
       "0  CF33F8-E6oudUQ46HnavjQ   Sonic Drive-In  Ashland City  AZ  2.0    6  1\n",
       "1  ROeacJQwBeh05Rqg7F6TCg              BAP  Philadelphia  AZ  4.5  205  1\n",
       "2  bCBPXIVfVzBZBEpFu29dcg  All In Shipping    Belleville  AZ  5.0    5  1\n",
       "3  JgpnXv_0XhV3SfbfB50nxw      Joe's Pizza         Tampa  AZ  4.0   35  0\n",
       "4  gbN4RuUiiBxQ2GBFQ2p3Cw    Mr. Margarita       Fernley  AZ  5.0    7  1"
      ]
     },
     "execution_count": 7,
     "metadata": {},
     "output_type": "execute_result"
    }
   ],
   "source": [
    "from google.cloud import storage \n",
    "import pandas as pd\n",
    "import numpy as np\n",
    "from datetime import datetime\n",
    "import mysql.connector\n",
    "import sys\n",
    "\n",
    "#### Establish Connetion ####\n",
    "\n",
    "cnx = mysql.connector.connect(user='root', password='soyhenry', host='35.247.37.77', \n",
    "                              database='pf_henry')\n",
    "\n",
    "cursor = cnx.cursor()\n",
    "\n",
    "#### Connetion Established ####\n",
    "\n",
    "#### Execute query ####\n",
    "\n",
    "\n",
    "query1 = (\"select * from business\")\n",
    "cursor.execute(query1)\n",
    "\n",
    "\n",
    "#### Create dataframe from resultant table ####\n",
    "frame = pd.DataFrame(cursor.fetchall())\n",
    "\n",
    "\n",
    "frame.head()"
   ]
  },
  {
   "cell_type": "markdown",
   "metadata": {},
   "source": [
    "#### Viendo el contenido de la tabla Business son 7 columnas y 41444 registros"
   ]
  },
  {
   "cell_type": "code",
   "execution_count": 11,
   "metadata": {},
   "outputs": [
    {
     "data": {
      "text/plain": [
       "(41444, 7)"
      ]
     },
     "execution_count": 11,
     "metadata": {},
     "output_type": "execute_result"
    }
   ],
   "source": [
    "frame.shape"
   ]
  },
  {
   "cell_type": "markdown",
   "metadata": {},
   "source": [
    "#### Viendo la Informacion de la tabla cargada en el DF"
   ]
  },
  {
   "cell_type": "code",
   "execution_count": 8,
   "metadata": {},
   "outputs": [
    {
     "name": "stdout",
     "output_type": "stream",
     "text": [
      "<class 'pandas.core.frame.DataFrame'>\n",
      "RangeIndex: 41444 entries, 0 to 41443\n",
      "Data columns (total 7 columns):\n",
      " #   Column  Non-Null Count  Dtype  \n",
      "---  ------  --------------  -----  \n",
      " 0   0       41444 non-null  object \n",
      " 1   1       41444 non-null  object \n",
      " 2   2       41444 non-null  object \n",
      " 3   3       41444 non-null  object \n",
      " 4   4       41444 non-null  float64\n",
      " 5   5       41444 non-null  int64  \n",
      " 6   6       41444 non-null  int64  \n",
      "dtypes: float64(1), int64(2), object(4)\n",
      "memory usage: 2.2+ MB\n"
     ]
    }
   ],
   "source": [
    "frame.info()"
   ]
  },
  {
   "cell_type": "markdown",
   "metadata": {},
   "source": [
    "#### Haciendo un filtrado para ver solo los negocios de FLORIDA"
   ]
  },
  {
   "cell_type": "code",
   "execution_count": 9,
   "metadata": {},
   "outputs": [
    {
     "data": {
      "text/html": [
       "<div>\n",
       "<style scoped>\n",
       "    .dataframe tbody tr th:only-of-type {\n",
       "        vertical-align: middle;\n",
       "    }\n",
       "\n",
       "    .dataframe tbody tr th {\n",
       "        vertical-align: top;\n",
       "    }\n",
       "\n",
       "    .dataframe thead th {\n",
       "        text-align: right;\n",
       "    }\n",
       "</style>\n",
       "<table border=\"1\" class=\"dataframe\">\n",
       "  <thead>\n",
       "    <tr style=\"text-align: right;\">\n",
       "      <th></th>\n",
       "      <th>0</th>\n",
       "      <th>1</th>\n",
       "      <th>2</th>\n",
       "      <th>3</th>\n",
       "      <th>4</th>\n",
       "      <th>5</th>\n",
       "      <th>6</th>\n",
       "    </tr>\n",
       "  </thead>\n",
       "  <tbody>\n",
       "    <tr>\n",
       "      <th>15115</th>\n",
       "      <td>UJsufbvfyfONHeWdvAHKjA</td>\n",
       "      <td>Marshalls</td>\n",
       "      <td>Land O' Lakes</td>\n",
       "      <td>FL</td>\n",
       "      <td>3.5</td>\n",
       "      <td>6</td>\n",
       "      <td>1</td>\n",
       "    </tr>\n",
       "    <tr>\n",
       "      <th>15116</th>\n",
       "      <td>jaxMSoInw8Poo3XeMJt8lQ</td>\n",
       "      <td>Adams Dental</td>\n",
       "      <td>Clearwater</td>\n",
       "      <td>FL</td>\n",
       "      <td>5.0</td>\n",
       "      <td>10</td>\n",
       "      <td>1</td>\n",
       "    </tr>\n",
       "    <tr>\n",
       "      <th>15117</th>\n",
       "      <td>0bPLkL0QhhPO5kt1_EXmNQ</td>\n",
       "      <td>Zio's Italian Market</td>\n",
       "      <td>Largo</td>\n",
       "      <td>FL</td>\n",
       "      <td>4.5</td>\n",
       "      <td>100</td>\n",
       "      <td>0</td>\n",
       "    </tr>\n",
       "    <tr>\n",
       "      <th>15118</th>\n",
       "      <td>rBmpy_Y1UbBx8ggHlyb7hA</td>\n",
       "      <td>Arizona Truck Outfitters</td>\n",
       "      <td>Tucson</td>\n",
       "      <td>FL</td>\n",
       "      <td>4.5</td>\n",
       "      <td>10</td>\n",
       "      <td>1</td>\n",
       "    </tr>\n",
       "    <tr>\n",
       "      <th>15119</th>\n",
       "      <td>M0XSSHqrASOnhgbWDJIpQA</td>\n",
       "      <td>Herb Import Co</td>\n",
       "      <td>New Orleans</td>\n",
       "      <td>FL</td>\n",
       "      <td>4.0</td>\n",
       "      <td>5</td>\n",
       "      <td>1</td>\n",
       "    </tr>\n",
       "    <tr>\n",
       "      <th>...</th>\n",
       "      <td>...</td>\n",
       "      <td>...</td>\n",
       "      <td>...</td>\n",
       "      <td>...</td>\n",
       "      <td>...</td>\n",
       "      <td>...</td>\n",
       "      <td>...</td>\n",
       "    </tr>\n",
       "    <tr>\n",
       "      <th>41439</th>\n",
       "      <td>yqwqLm27A0mxmBx_chTZhg</td>\n",
       "      <td>RadioShack</td>\n",
       "      <td>Havertown</td>\n",
       "      <td>FL</td>\n",
       "      <td>2.5</td>\n",
       "      <td>5</td>\n",
       "      <td>0</td>\n",
       "    </tr>\n",
       "    <tr>\n",
       "      <th>41440</th>\n",
       "      <td>Y5gyxnQt44B3axgzrjttlw</td>\n",
       "      <td>Don Cruz Snowballs</td>\n",
       "      <td>Kenner</td>\n",
       "      <td>FL</td>\n",
       "      <td>4.5</td>\n",
       "      <td>6</td>\n",
       "      <td>1</td>\n",
       "    </tr>\n",
       "    <tr>\n",
       "      <th>41441</th>\n",
       "      <td>esBGrrmuZzSiECyRBoKvvA</td>\n",
       "      <td>Colony Grill - St. Petersburg</td>\n",
       "      <td>St. Petersburg</td>\n",
       "      <td>FL</td>\n",
       "      <td>4.5</td>\n",
       "      <td>38</td>\n",
       "      <td>1</td>\n",
       "    </tr>\n",
       "    <tr>\n",
       "      <th>41442</th>\n",
       "      <td>jsTHopAoQFncD0pGoJQFrw</td>\n",
       "      <td>St John Neumann Center for Rehabilitation &amp; He...</td>\n",
       "      <td>Philadelphia</td>\n",
       "      <td>FL</td>\n",
       "      <td>1.5</td>\n",
       "      <td>6</td>\n",
       "      <td>1</td>\n",
       "    </tr>\n",
       "    <tr>\n",
       "      <th>41443</th>\n",
       "      <td>wPAaAbFbq5wfLfW0gnYU7g</td>\n",
       "      <td>Intermix</td>\n",
       "      <td>Philadelphia</td>\n",
       "      <td>FL</td>\n",
       "      <td>2.0</td>\n",
       "      <td>10</td>\n",
       "      <td>0</td>\n",
       "    </tr>\n",
       "  </tbody>\n",
       "</table>\n",
       "<p>26329 rows × 7 columns</p>\n",
       "</div>"
      ],
      "text/plain": [
       "                            0  \\\n",
       "15115  UJsufbvfyfONHeWdvAHKjA   \n",
       "15116  jaxMSoInw8Poo3XeMJt8lQ   \n",
       "15117  0bPLkL0QhhPO5kt1_EXmNQ   \n",
       "15118  rBmpy_Y1UbBx8ggHlyb7hA   \n",
       "15119  M0XSSHqrASOnhgbWDJIpQA   \n",
       "...                       ...   \n",
       "41439  yqwqLm27A0mxmBx_chTZhg   \n",
       "41440  Y5gyxnQt44B3axgzrjttlw   \n",
       "41441  esBGrrmuZzSiECyRBoKvvA   \n",
       "41442  jsTHopAoQFncD0pGoJQFrw   \n",
       "41443  wPAaAbFbq5wfLfW0gnYU7g   \n",
       "\n",
       "                                                       1               2   3  \\\n",
       "15115                                          Marshalls   Land O' Lakes  FL   \n",
       "15116                                       Adams Dental      Clearwater  FL   \n",
       "15117                               Zio's Italian Market           Largo  FL   \n",
       "15118                           Arizona Truck Outfitters          Tucson  FL   \n",
       "15119                                     Herb Import Co     New Orleans  FL   \n",
       "...                                                  ...             ...  ..   \n",
       "41439                                         RadioShack       Havertown  FL   \n",
       "41440                                 Don Cruz Snowballs          Kenner  FL   \n",
       "41441                      Colony Grill - St. Petersburg  St. Petersburg  FL   \n",
       "41442  St John Neumann Center for Rehabilitation & He...    Philadelphia  FL   \n",
       "41443                                           Intermix    Philadelphia  FL   \n",
       "\n",
       "         4    5  6  \n",
       "15115  3.5    6  1  \n",
       "15116  5.0   10  1  \n",
       "15117  4.5  100  0  \n",
       "15118  4.5   10  1  \n",
       "15119  4.0    5  1  \n",
       "...    ...  ... ..  \n",
       "41439  2.5    5  0  \n",
       "41440  4.5    6  1  \n",
       "41441  4.5   38  1  \n",
       "41442  1.5    6  1  \n",
       "41443  2.0   10  0  \n",
       "\n",
       "[26329 rows x 7 columns]"
      ]
     },
     "execution_count": 9,
     "metadata": {},
     "output_type": "execute_result"
    }
   ],
   "source": [
    "FL=frame[frame[3]=='FL']\n",
    "FL"
   ]
  },
  {
   "cell_type": "markdown",
   "metadata": {},
   "source": [
    "### Viendo las Dimenciones despues del Filtrado que son 26329, se ve todo en orden"
   ]
  },
  {
   "cell_type": "code",
   "execution_count": 10,
   "metadata": {},
   "outputs": [
    {
     "data": {
      "text/plain": [
       "(26329, 7)"
      ]
     },
     "execution_count": 10,
     "metadata": {},
     "output_type": "execute_result"
    }
   ],
   "source": [
    "FL.shape"
   ]
  },
  {
   "cell_type": "markdown",
   "metadata": {},
   "source": [
    "#### Terminando la Conexion"
   ]
  },
  {
   "cell_type": "code",
   "execution_count": 12,
   "metadata": {},
   "outputs": [],
   "source": [
    "cursor.close()\n",
    "cnx.close()"
   ]
  },
  {
   "cell_type": "markdown",
   "metadata": {},
   "source": [
    "### Coneccion a Cloud Storage"
   ]
  },
  {
   "cell_type": "code",
   "execution_count": null,
   "metadata": {},
   "outputs": [],
   "source": [
    "from google.cloud import storage\n",
    "\n",
    "client = storage.Client()\n",
    "\n",
    "    # Obtiene el bucket especificado\n",
    "bucket = client.get_bucket(\"datasetshenry\")\n",
    "\n",
    "    # Crea un nuevo objeto Blob en el bucket (Nombre de archivo y ruta en CLOUD STORAGE)\n",
    "blob = bucket.blob(\"INFO_CONT.parquet\")\n",
    "\n",
    "    # Sube el archivo local al bucket (RUTA ARCHIVO LOCAL)\n",
    "blob.upload_from_filename(\"INFO_CONT.parquet\")\n"
   ]
  }
 ],
 "metadata": {
  "kernelspec": {
   "display_name": "Python 3",
   "language": "python",
   "name": "python3"
  },
  "language_info": {
   "codemirror_mode": {
    "name": "ipython",
    "version": 3
   },
   "file_extension": ".py",
   "mimetype": "text/x-python",
   "name": "python",
   "nbconvert_exporter": "python",
   "pygments_lexer": "ipython3",
   "version": "3.12.2"
  }
 },
 "nbformat": 4,
 "nbformat_minor": 2
}
