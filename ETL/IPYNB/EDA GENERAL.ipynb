{
 "cells": [
  {
   "cell_type": "code",
   "execution_count": 1,
   "metadata": {},
   "outputs": [],
   "source": [
    "import pandas as pd\n",
    "import matplotlib.pyplot as plt\n",
    "import seaborn as sns\n",
    "import pyarrow"
   ]
  },
  {
   "cell_type": "markdown",
   "metadata": {},
   "source": [
    "### Leer archivos parquet"
   ]
  },
  {
   "cell_type": "code",
   "execution_count": 2,
   "metadata": {},
   "outputs": [],
   "source": [
    "b_az=pd.read_parquet('business3estados.parquet')\n",
    "ch=pd.read_parquet('checkin3estados.parquet')\n",
    "tip=pd.read_parquet('tip3estados.parquet')\n",
    "usr=pd.read_parquet('user3estados.parquet')\n",
    "r_az=pd.read_parquet('REV_AZ.parquet')\n",
    "r_ca=pd.read_parquet('REV_CA.parquet')\n",
    "r_fl=pd.read_parquet('REV_FL.parquet')"
   ]
  },
  {
   "cell_type": "markdown",
   "metadata": {},
   "source": [
    "### Ver Dimenciones de Los Dataframes"
   ]
  },
  {
   "cell_type": "markdown",
   "metadata": {},
   "source": [
    "Analisis: Se ven las dimenciones de los Datasets y se llega a la conclusion de que hay tablas Principales y otras que son dependientes osea que todas tienen valor en su conjunto y dificilmente mas no imposible puede resultar dificil de extraer informacion de una tabla por si sola\n",
    "\n",
    "Por el numero de registos se ve que es un dataset con una buena cantidad de conocimento real ya que en las ciudades que nos dedicamos en este proyecto son ciudades grandes, por varios analisis se ve que aunque no esta completo tampoco esta demaciado alejado de la realidad.\n",
    "\n",
    "Me atreveria decir que esta en un punto medio de Exactitud"
   ]
  },
  {
   "cell_type": "code",
   "execution_count": 3,
   "metadata": {},
   "outputs": [
    {
     "data": {
      "text/plain": [
       "(41444, 14)"
      ]
     },
     "execution_count": 3,
     "metadata": {},
     "output_type": "execute_result"
    }
   ],
   "source": [
    "b_az.shape"
   ]
  },
  {
   "cell_type": "code",
   "execution_count": 4,
   "metadata": {},
   "outputs": [
    {
     "data": {
      "text/plain": [
       "(36401, 2)"
      ]
     },
     "execution_count": 4,
     "metadata": {},
     "output_type": "execute_result"
    }
   ],
   "source": [
    "ch.shape"
   ]
  },
  {
   "cell_type": "code",
   "execution_count": 5,
   "metadata": {},
   "outputs": [
    {
     "data": {
      "text/plain": [
       "(251444, 4)"
      ]
     },
     "execution_count": 5,
     "metadata": {},
     "output_type": "execute_result"
    }
   ],
   "source": [
    "tip.shape"
   ]
  },
  {
   "cell_type": "code",
   "execution_count": 6,
   "metadata": {},
   "outputs": [
    {
     "data": {
      "text/plain": [
       "(397785, 9)"
      ]
     },
     "execution_count": 6,
     "metadata": {},
     "output_type": "execute_result"
    }
   ],
   "source": [
    "usr.shape"
   ]
  },
  {
   "cell_type": "code",
   "execution_count": 7,
   "metadata": {},
   "outputs": [
    {
     "data": {
      "text/plain": [
       "(151881, 17)"
      ]
     },
     "execution_count": 7,
     "metadata": {},
     "output_type": "execute_result"
    }
   ],
   "source": [
    "r_az.shape"
   ]
  },
  {
   "cell_type": "code",
   "execution_count": 8,
   "metadata": {},
   "outputs": [
    {
     "data": {
      "text/plain": [
       "(119392, 11)"
      ]
     },
     "execution_count": 8,
     "metadata": {},
     "output_type": "execute_result"
    }
   ],
   "source": [
    "r_ca.shape"
   ]
  },
  {
   "cell_type": "code",
   "execution_count": 9,
   "metadata": {},
   "outputs": [
    {
     "data": {
      "text/plain": [
       "(460601, 17)"
      ]
     },
     "execution_count": 9,
     "metadata": {},
     "output_type": "execute_result"
    }
   ],
   "source": [
    "r_fl.shape"
   ]
  },
  {
   "cell_type": "markdown",
   "metadata": {},
   "source": [
    "### Ver Datos Nulos"
   ]
  },
  {
   "cell_type": "markdown",
   "metadata": {},
   "source": [
    "Analisis: Aqui se puede ver el valor de las columnas por la cantidad de datos rellenados y los datos vacios, principalmente se ve donde podriamos tener menos margen de error al momento de utilizar una columna."
   ]
  },
  {
   "cell_type": "code",
   "execution_count": 10,
   "metadata": {},
   "outputs": [
    {
     "data": {
      "text/plain": [
       "business_id        0\n",
       "name               0\n",
       "address            0\n",
       "city               0\n",
       "state              0\n",
       "postal_code        0\n",
       "latitude           0\n",
       "longitude          0\n",
       "stars              0\n",
       "review_count       0\n",
       "is_open            0\n",
       "attributes      3862\n",
       "categories        25\n",
       "hours           6506\n",
       "dtype: int64"
      ]
     },
     "execution_count": 10,
     "metadata": {},
     "output_type": "execute_result"
    }
   ],
   "source": [
    "b_az.isnull().sum()"
   ]
  },
  {
   "cell_type": "code",
   "execution_count": 11,
   "metadata": {},
   "outputs": [
    {
     "data": {
      "text/plain": [
       "business_id    0\n",
       "date           0\n",
       "dtype: int64"
      ]
     },
     "execution_count": 11,
     "metadata": {},
     "output_type": "execute_result"
    }
   ],
   "source": [
    "ch.isnull().sum()"
   ]
  },
  {
   "cell_type": "code",
   "execution_count": 12,
   "metadata": {},
   "outputs": [
    {
     "data": {
      "text/plain": [
       "business_id         0\n",
       "user_id             0\n",
       "text                0\n",
       "compliment_count    0\n",
       "dtype: int64"
      ]
     },
     "execution_count": 12,
     "metadata": {},
     "output_type": "execute_result"
    }
   ],
   "source": [
    "tip.isnull().sum()"
   ]
  },
  {
   "cell_type": "code",
   "execution_count": 13,
   "metadata": {},
   "outputs": [
    {
     "data": {
      "text/plain": [
       "user_id           0\n",
       "name              0\n",
       "review_count      0\n",
       "useful            0\n",
       "funny             0\n",
       "cool              0\n",
       "fans              0\n",
       "average_stars     0\n",
       "compliment_hot    0\n",
       "dtype: int64"
      ]
     },
     "execution_count": 13,
     "metadata": {},
     "output_type": "execute_result"
    }
   ],
   "source": [
    "usr.isnull().sum()"
   ]
  },
  {
   "cell_type": "code",
   "execution_count": 14,
   "metadata": {},
   "outputs": [
    {
     "data": {
      "text/plain": [
       "business_id                    0\n",
       "name                           0\n",
       "address                      393\n",
       "city                           0\n",
       "postal_code                    0\n",
       "latitude                       0\n",
       "longitude                      0\n",
       "stars_x                        0\n",
       "review_count                   0\n",
       "user_id                        0\n",
       "stars_y                        0\n",
       "useful                         0\n",
       "funny                          0\n",
       "cool                           0\n",
       "date                           0\n",
       "Polaridad del sentimiento      0\n",
       "Sentimiento                    0\n",
       "dtype: int64"
      ]
     },
     "execution_count": 14,
     "metadata": {},
     "output_type": "execute_result"
    }
   ],
   "source": [
    "r_az.isnull().sum()"
   ]
  },
  {
   "cell_type": "code",
   "execution_count": 15,
   "metadata": {},
   "outputs": [
    {
     "data": {
      "text/plain": [
       "user_id                      0\n",
       "business_id                  0\n",
       "stars                        0\n",
       "useful                       0\n",
       "funny                        0\n",
       "cool                         0\n",
       "date                         0\n",
       "Polaridad del sentimiento    0\n",
       "Sentimiento                  0\n",
       "ano                          0\n",
       "mes                          0\n",
       "dtype: int64"
      ]
     },
     "execution_count": 15,
     "metadata": {},
     "output_type": "execute_result"
    }
   ],
   "source": [
    "r_ca.isnull().sum()"
   ]
  },
  {
   "cell_type": "code",
   "execution_count": 16,
   "metadata": {},
   "outputs": [
    {
     "data": {
      "text/plain": [
       "business_id                    0\n",
       "name                           0\n",
       "address                      400\n",
       "city                           0\n",
       "postal_code                    0\n",
       "latitude                       0\n",
       "longitude                      0\n",
       "stars_x                        0\n",
       "review_count                   0\n",
       "user_id                        0\n",
       "stars_y                        0\n",
       "useful                         0\n",
       "funny                          0\n",
       "cool                           0\n",
       "date                           0\n",
       "Polaridad del sentimiento      0\n",
       "Sentimiento                    0\n",
       "dtype: int64"
      ]
     },
     "execution_count": 16,
     "metadata": {},
     "output_type": "execute_result"
    }
   ],
   "source": [
    "r_fl.isnull().sum()"
   ]
  },
  {
   "cell_type": "markdown",
   "metadata": {},
   "source": [
    "### Datos duplicados"
   ]
  },
  {
   "cell_type": "markdown",
   "metadata": {},
   "source": [
    "Conclusion: Hay datos duplicados en los dataframes, no se especifico, ya que no es del todo reelevante ya que existen muchos negocios del mismo tipo en una ciudad o hay varios comentarios de la misma persona. \n",
    "\n",
    "Asi que en caso de que se tenga alguna duda se buscarian duplicados o filtrarian cosas de ciertos registros en la tabla"
   ]
  },
  {
   "cell_type": "code",
   "execution_count": 17,
   "metadata": {},
   "outputs": [
    {
     "data": {
      "text/plain": [
       "151881"
      ]
     },
     "execution_count": 17,
     "metadata": {},
     "output_type": "execute_result"
    }
   ],
   "source": [
    "r_az.duplicated().count()"
   ]
  },
  {
   "cell_type": "code",
   "execution_count": 18,
   "metadata": {},
   "outputs": [
    {
     "data": {
      "text/plain": [
       "119392"
      ]
     },
     "execution_count": 18,
     "metadata": {},
     "output_type": "execute_result"
    }
   ],
   "source": [
    "r_ca.duplicated().count()"
   ]
  },
  {
   "cell_type": "code",
   "execution_count": 19,
   "metadata": {},
   "outputs": [
    {
     "data": {
      "text/plain": [
       "460601"
      ]
     },
     "execution_count": 19,
     "metadata": {},
     "output_type": "execute_result"
    }
   ],
   "source": [
    "r_fl.duplicated().count()"
   ]
  },
  {
   "cell_type": "code",
   "execution_count": 20,
   "metadata": {},
   "outputs": [
    {
     "data": {
      "text/plain": [
       "36401"
      ]
     },
     "execution_count": 20,
     "metadata": {},
     "output_type": "execute_result"
    }
   ],
   "source": [
    "ch.duplicated().count()"
   ]
  },
  {
   "cell_type": "code",
   "execution_count": 21,
   "metadata": {},
   "outputs": [
    {
     "data": {
      "text/plain": [
       "251444"
      ]
     },
     "execution_count": 21,
     "metadata": {},
     "output_type": "execute_result"
    }
   ],
   "source": [
    "tip.duplicated().count()"
   ]
  },
  {
   "cell_type": "code",
   "execution_count": 22,
   "metadata": {},
   "outputs": [
    {
     "data": {
      "text/plain": [
       "277624"
      ]
     },
     "execution_count": 22,
     "metadata": {},
     "output_type": "execute_result"
    }
   ],
   "source": [
    "usr.duplicated().sum()"
   ]
  },
  {
   "cell_type": "markdown",
   "metadata": {},
   "source": [
    "### Datos similares"
   ]
  },
  {
   "cell_type": "markdown",
   "metadata": {},
   "source": [
    "conclusion: Para este analisis se tomaron 2 datasets y se filtraron las columnas de interes\n",
    "\n",
    "Solo se hicieron 2 analisis ya que interesa saber el numero de negocios duplicados que existen y al parecer no son pocos al igual que de usuarios duplicados"
   ]
  },
  {
   "cell_type": "code",
   "execution_count": 23,
   "metadata": {},
   "outputs": [
    {
     "data": {
      "text/plain": [
       "(41444,)"
      ]
     },
     "execution_count": 23,
     "metadata": {},
     "output_type": "execute_result"
    }
   ],
   "source": [
    "business=b_az['business_id'].unique()\n",
    "business.shape"
   ]
  },
  {
   "cell_type": "code",
   "execution_count": 24,
   "metadata": {},
   "outputs": [
    {
     "data": {
      "text/plain": [
       "(120161,)"
      ]
     },
     "execution_count": 24,
     "metadata": {},
     "output_type": "execute_result"
    }
   ],
   "source": [
    "usr1=usr['user_id'].unique()\n",
    "usr1.shape"
   ]
  },
  {
   "cell_type": "markdown",
   "metadata": {},
   "source": [
    "#### Datos Datos restaurantes mas reelevantes de las tablas"
   ]
  },
  {
   "cell_type": "markdown",
   "metadata": {},
   "source": [
    "analisis: En esta tabla se puede ver los restaurantes con mas estrellas y 2 de ellos sonde AZ y 1 de el es de AZ, segun como lo clasifico la computadora, en caso que se realize un merge con otra tabla se podrian ver la cantidad de comentarios y de personas que puntuan el restaurant.\n",
    "\n",
    "Asi agregando mas variables se podria conseguir una mayor presicion conforme que restaurante de 5 estellas es el mejor"
   ]
  },
  {
   "cell_type": "code",
   "execution_count": 31,
   "metadata": {},
   "outputs": [
    {
     "data": {
      "text/html": [
       "<div>\n",
       "<style scoped>\n",
       "    .dataframe tbody tr th:only-of-type {\n",
       "        vertical-align: middle;\n",
       "    }\n",
       "\n",
       "    .dataframe tbody tr th {\n",
       "        vertical-align: top;\n",
       "    }\n",
       "\n",
       "    .dataframe thead th {\n",
       "        text-align: right;\n",
       "    }\n",
       "</style>\n",
       "<table border=\"1\" class=\"dataframe\">\n",
       "  <thead>\n",
       "    <tr style=\"text-align: right;\">\n",
       "      <th></th>\n",
       "      <th>business_id</th>\n",
       "      <th>stars</th>\n",
       "      <th>state</th>\n",
       "    </tr>\n",
       "  </thead>\n",
       "  <tbody>\n",
       "    <tr>\n",
       "      <th>35511</th>\n",
       "      <td>swmPCRi7bOu6ATAThAXYGw</td>\n",
       "      <td>5.0</td>\n",
       "      <td>AZ</td>\n",
       "    </tr>\n",
       "    <tr>\n",
       "      <th>46822</th>\n",
       "      <td>GioQY5rE_tDfeDItgKJDKw</td>\n",
       "      <td>5.0</td>\n",
       "      <td>AZ</td>\n",
       "    </tr>\n",
       "    <tr>\n",
       "      <th>137038</th>\n",
       "      <td>9VTCalrSzAyVDcf-6gDIZw</td>\n",
       "      <td>5.0</td>\n",
       "      <td>FL</td>\n",
       "    </tr>\n",
       "    <tr>\n",
       "      <th>137071</th>\n",
       "      <td>OmV3ZeEC2Yr7Dt4XD7gyPw</td>\n",
       "      <td>5.0</td>\n",
       "      <td>FL</td>\n",
       "    </tr>\n",
       "    <tr>\n",
       "      <th>105986</th>\n",
       "      <td>Sv8CMETkwVHjmoQXWGnROA</td>\n",
       "      <td>5.0</td>\n",
       "      <td>CA</td>\n",
       "    </tr>\n",
       "    <tr>\n",
       "      <th>30131</th>\n",
       "      <td>SmNi3xGxiHGUUNtSpudsLw</td>\n",
       "      <td>5.0</td>\n",
       "      <td>FL</td>\n",
       "    </tr>\n",
       "    <tr>\n",
       "      <th>103445</th>\n",
       "      <td>veJSiFzg4wUQbC3LK1tuPA</td>\n",
       "      <td>5.0</td>\n",
       "      <td>AZ</td>\n",
       "    </tr>\n",
       "    <tr>\n",
       "      <th>131468</th>\n",
       "      <td>qRr9ILdWroRM0v1utwAmrw</td>\n",
       "      <td>5.0</td>\n",
       "      <td>FL</td>\n",
       "    </tr>\n",
       "    <tr>\n",
       "      <th>106168</th>\n",
       "      <td>mOkO1JFFw2Iskgg30mJABA</td>\n",
       "      <td>5.0</td>\n",
       "      <td>CA</td>\n",
       "    </tr>\n",
       "    <tr>\n",
       "      <th>104170</th>\n",
       "      <td>NlhEXGsDDpMdqZ6APCs8_w</td>\n",
       "      <td>5.0</td>\n",
       "      <td>FL</td>\n",
       "    </tr>\n",
       "    <tr>\n",
       "      <th>104197</th>\n",
       "      <td>vFFxjokz78Nf1Af7uEJlaA</td>\n",
       "      <td>5.0</td>\n",
       "      <td>FL</td>\n",
       "    </tr>\n",
       "    <tr>\n",
       "      <th>103528</th>\n",
       "      <td>J0K12klItH1lfckkCHs_jA</td>\n",
       "      <td>5.0</td>\n",
       "      <td>AZ</td>\n",
       "    </tr>\n",
       "    <tr>\n",
       "      <th>106336</th>\n",
       "      <td>c4hcdpEPdQDVl7YleEkjeg</td>\n",
       "      <td>5.0</td>\n",
       "      <td>CA</td>\n",
       "    </tr>\n",
       "    <tr>\n",
       "      <th>90447</th>\n",
       "      <td>DQoYX8oMbMzv6J8iqWKa6g</td>\n",
       "      <td>5.0</td>\n",
       "      <td>FL</td>\n",
       "    </tr>\n",
       "    <tr>\n",
       "      <th>51221</th>\n",
       "      <td>S98MZJQRzoJ4KBXj1D6vFQ</td>\n",
       "      <td>5.0</td>\n",
       "      <td>FL</td>\n",
       "    </tr>\n",
       "  </tbody>\n",
       "</table>\n",
       "</div>"
      ],
      "text/plain": [
       "                   business_id  stars state\n",
       "35511   swmPCRi7bOu6ATAThAXYGw    5.0    AZ\n",
       "46822   GioQY5rE_tDfeDItgKJDKw    5.0    AZ\n",
       "137038  9VTCalrSzAyVDcf-6gDIZw    5.0    FL\n",
       "137071  OmV3ZeEC2Yr7Dt4XD7gyPw    5.0    FL\n",
       "105986  Sv8CMETkwVHjmoQXWGnROA    5.0    CA\n",
       "30131   SmNi3xGxiHGUUNtSpudsLw    5.0    FL\n",
       "103445  veJSiFzg4wUQbC3LK1tuPA    5.0    AZ\n",
       "131468  qRr9ILdWroRM0v1utwAmrw    5.0    FL\n",
       "106168  mOkO1JFFw2Iskgg30mJABA    5.0    CA\n",
       "104170  NlhEXGsDDpMdqZ6APCs8_w    5.0    FL\n",
       "104197  vFFxjokz78Nf1Af7uEJlaA    5.0    FL\n",
       "103528  J0K12klItH1lfckkCHs_jA    5.0    AZ\n",
       "106336  c4hcdpEPdQDVl7YleEkjeg    5.0    CA\n",
       "90447   DQoYX8oMbMzv6J8iqWKa6g    5.0    FL\n",
       "51221   S98MZJQRzoJ4KBXj1D6vFQ    5.0    FL"
      ]
     },
     "execution_count": 31,
     "metadata": {},
     "output_type": "execute_result"
    }
   ],
   "source": [
    "business=b_az[['business_id', 'stars', 'state']].sort_values(by='stars', ascending=False).head(15)\n",
    "business"
   ]
  },
  {
   "cell_type": "code",
   "execution_count": 33,
   "metadata": {},
   "outputs": [
    {
     "name": "stderr",
     "output_type": "stream",
     "text": [
      "/var/folders/w5/r6_nbnhj29l7td33bhmpmz180000gn/T/ipykernel_7333/2116015919.py:1: FutureWarning: \n",
      "\n",
      "Passing `palette` without assigning `hue` is deprecated and will be removed in v0.14.0. Assign the `x` variable to `hue` and set `legend=False` for the same effect.\n",
      "\n",
      "  sns.catplot(data=business, x=\"business_id\", y=\"stars\", kind=\"bar\", palette=\"colorblind\")\n"
     ]
    },
    {
     "data": {
      "image/png": "[encoded data removed]",
      "text/plain": [
       "<Figure size 500x500 with 1 Axes>"
      ]
     },
     "metadata": {},
     "output_type": "display_data"
    }
   ],
   "source": [
    "sns.catplot(data=business, x=\"business_id\", y=\"stars\", kind=\"bar\", palette=\"colorblind\")\n",
    "plt.xticks(rotation=90)\n",
    "plt.show()"
   ]
  },
  {
   "cell_type": "markdown",
   "metadata": {},
   "source": [
    "analisis: Ahora los restaurantes estan ordenados segun la cantidad de comentarios, con esto podemos ver la cantidad de visitas e interacciones que tienen con sus clientes, o pueden ser que sean mas populares ya que se tomaron el tiempo para valorarlo osea que no pasaron de largo"
   ]
  },
  {
   "cell_type": "code",
   "execution_count": 27,
   "metadata": {},
   "outputs": [
    {
     "data": {
      "text/html": [
       "<div>\n",
       "<style scoped>\n",
       "    .dataframe tbody tr th:only-of-type {\n",
       "        vertical-align: middle;\n",
       "    }\n",
       "\n",
       "    .dataframe tbody tr th {\n",
       "        vertical-align: top;\n",
       "    }\n",
       "\n",
       "    .dataframe thead th {\n",
       "        text-align: right;\n",
       "    }\n",
       "</style>\n",
       "<table border=\"1\" class=\"dataframe\">\n",
       "  <thead>\n",
       "    <tr style=\"text-align: right;\">\n",
       "      <th></th>\n",
       "      <th>business_id</th>\n",
       "      <th>review_count</th>\n",
       "    </tr>\n",
       "  </thead>\n",
       "  <tbody>\n",
       "    <tr>\n",
       "      <th>113731</th>\n",
       "      <td>_ab50qdWOk0DdB6XOrBitw</td>\n",
       "      <td>7568</td>\n",
       "    </tr>\n",
       "    <tr>\n",
       "      <th>112552</th>\n",
       "      <td>ac1AeYqs8Z4_e2X5M3if2A</td>\n",
       "      <td>7400</td>\n",
       "    </tr>\n",
       "    <tr>\n",
       "      <th>147081</th>\n",
       "      <td>oBNrLz4EDhiscSlbOl8uAw</td>\n",
       "      <td>5193</td>\n",
       "    </tr>\n",
       "    <tr>\n",
       "      <th>129349</th>\n",
       "      <td>yPSejq3_erxo9zdVYTBnZA</td>\n",
       "      <td>3834</td>\n",
       "    </tr>\n",
       "    <tr>\n",
       "      <th>147858</th>\n",
       "      <td>VAeEXLbEcI9Emt9KGYq9aA</td>\n",
       "      <td>3054</td>\n",
       "    </tr>\n",
       "    <tr>\n",
       "      <th>120871</th>\n",
       "      <td>ww3YJXu5c18aGZXWmm00qg</td>\n",
       "      <td>2756</td>\n",
       "    </tr>\n",
       "    <tr>\n",
       "      <th>53452</th>\n",
       "      <td>sTPueJEwcRDj7ZJmG7okYA</td>\n",
       "      <td>2736</td>\n",
       "    </tr>\n",
       "    <tr>\n",
       "      <th>36746</th>\n",
       "      <td>RQAF6a0akMiot5lZZnMNNw</td>\n",
       "      <td>2686</td>\n",
       "    </tr>\n",
       "    <tr>\n",
       "      <th>114618</th>\n",
       "      <td>J0joPXxmN-_9Lzafspqdbw</td>\n",
       "      <td>2506</td>\n",
       "    </tr>\n",
       "    <tr>\n",
       "      <th>9506</th>\n",
       "      <td>PY9GRfzr4nTZeINf346QOw</td>\n",
       "      <td>2486</td>\n",
       "    </tr>\n",
       "    <tr>\n",
       "      <th>20907</th>\n",
       "      <td>mhrW9O0O5hXGXGnEYBVoag</td>\n",
       "      <td>2406</td>\n",
       "    </tr>\n",
       "    <tr>\n",
       "      <th>18726</th>\n",
       "      <td>UFCN0bYdHroPKu6KV5CJqg</td>\n",
       "      <td>2233</td>\n",
       "    </tr>\n",
       "    <tr>\n",
       "      <th>46923</th>\n",
       "      <td>-QI8Qi8XWH3D8y8ethnajA</td>\n",
       "      <td>2149</td>\n",
       "    </tr>\n",
       "    <tr>\n",
       "      <th>957</th>\n",
       "      <td>W4ZEKkva9HpAdZG88juwyQ</td>\n",
       "      <td>2064</td>\n",
       "    </tr>\n",
       "    <tr>\n",
       "      <th>147511</th>\n",
       "      <td>qQO7ErS_RAN4Vs1uX0L55Q</td>\n",
       "      <td>2062</td>\n",
       "    </tr>\n",
       "  </tbody>\n",
       "</table>\n",
       "</div>"
      ],
      "text/plain": [
       "                   business_id  review_count\n",
       "113731  _ab50qdWOk0DdB6XOrBitw          7568\n",
       "112552  ac1AeYqs8Z4_e2X5M3if2A          7400\n",
       "147081  oBNrLz4EDhiscSlbOl8uAw          5193\n",
       "129349  yPSejq3_erxo9zdVYTBnZA          3834\n",
       "147858  VAeEXLbEcI9Emt9KGYq9aA          3054\n",
       "120871  ww3YJXu5c18aGZXWmm00qg          2756\n",
       "53452   sTPueJEwcRDj7ZJmG7okYA          2736\n",
       "36746   RQAF6a0akMiot5lZZnMNNw          2686\n",
       "114618  J0joPXxmN-_9Lzafspqdbw          2506\n",
       "9506    PY9GRfzr4nTZeINf346QOw          2486\n",
       "20907   mhrW9O0O5hXGXGnEYBVoag          2406\n",
       "18726   UFCN0bYdHroPKu6KV5CJqg          2233\n",
       "46923   -QI8Qi8XWH3D8y8ethnajA          2149\n",
       "957     W4ZEKkva9HpAdZG88juwyQ          2064\n",
       "147511  qQO7ErS_RAN4Vs1uX0L55Q          2062"
      ]
     },
     "execution_count": 27,
     "metadata": {},
     "output_type": "execute_result"
    }
   ],
   "source": [
    "baz2=b_az[['business_id', 'review_count']].sort_values(by='review_count',ascending=False).head(15)\n",
    "baz2"
   ]
  },
  {
   "cell_type": "code",
   "execution_count": 28,
   "metadata": {},
   "outputs": [
    {
     "name": "stderr",
     "output_type": "stream",
     "text": [
      "/var/folders/w5/r6_nbnhj29l7td33bhmpmz180000gn/T/ipykernel_7333/3111464161.py:1: FutureWarning: \n",
      "\n",
      "Passing `palette` without assigning `hue` is deprecated and will be removed in v0.14.0. Assign the `x` variable to `hue` and set `legend=False` for the same effect.\n",
      "\n",
      "  sns.catplot(data=baz2, x=\"business_id\", y=\"review_count\", kind=\"bar\", palette=\"colorblind\")\n"
     ]
    },
    {
     "data": {
      "image/png": "[encoded data removed]",
      "text/plain": [
       "<Figure size 500x500 with 1 Axes>"
      ]
     },
     "metadata": {},
     "output_type": "display_data"
    }
   ],
   "source": [
    "sns.catplot(data=baz2, x=\"business_id\", y=\"review_count\", kind=\"bar\", palette=\"colorblind\")\n",
    "plt.xticks(rotation=90)\n",
    "plt.show()"
   ]
  },
  {
   "cell_type": "markdown",
   "metadata": {},
   "source": [
    "#### Usuario con mas comentarios"
   ]
  },
  {
   "cell_type": "markdown",
   "metadata": {},
   "source": [
    "analisis: aqui se ve el nivel de empatia de los usuarios ya que se toman el tiempo para puntuar los restaurantes esto normalmente lo hacen por beneficio de los demas\n",
    "\n",
    "Si se llega a hacer un merge de estos usuarios con sus comentarios y despues con las empresas podriamos descubrir mediante el analisis de sentimiento con exactitud que Usuarios realmente les interesa la aplicacion de Yelp y aprender de ellos, Porque."
   ]
  },
  {
   "cell_type": "code",
   "execution_count": 29,
   "metadata": {},
   "outputs": [
    {
     "data": {
      "text/html": [
       "<div>\n",
       "<style scoped>\n",
       "    .dataframe tbody tr th:only-of-type {\n",
       "        vertical-align: middle;\n",
       "    }\n",
       "\n",
       "    .dataframe tbody tr th {\n",
       "        vertical-align: top;\n",
       "    }\n",
       "\n",
       "    .dataframe thead th {\n",
       "        text-align: right;\n",
       "    }\n",
       "</style>\n",
       "<table border=\"1\" class=\"dataframe\">\n",
       "  <thead>\n",
       "    <tr style=\"text-align: right;\">\n",
       "      <th></th>\n",
       "      <th>user_id</th>\n",
       "      <th>review_count</th>\n",
       "    </tr>\n",
       "  </thead>\n",
       "  <tbody>\n",
       "    <tr>\n",
       "      <th>285325</th>\n",
       "      <td>Hi10sGSZNxQH3NLyWSZ1oA</td>\n",
       "      <td>17473</td>\n",
       "    </tr>\n",
       "    <tr>\n",
       "      <th>118043</th>\n",
       "      <td>Hi10sGSZNxQH3NLyWSZ1oA</td>\n",
       "      <td>17473</td>\n",
       "    </tr>\n",
       "    <tr>\n",
       "      <th>196014</th>\n",
       "      <td>Hi10sGSZNxQH3NLyWSZ1oA</td>\n",
       "      <td>17473</td>\n",
       "    </tr>\n",
       "    <tr>\n",
       "      <th>166651</th>\n",
       "      <td>Hi10sGSZNxQH3NLyWSZ1oA</td>\n",
       "      <td>17473</td>\n",
       "    </tr>\n",
       "    <tr>\n",
       "      <th>346870</th>\n",
       "      <td>hWDybu_KvYLSdEFzGrniTw</td>\n",
       "      <td>16567</td>\n",
       "    </tr>\n",
       "    <tr>\n",
       "      <th>346871</th>\n",
       "      <td>hWDybu_KvYLSdEFzGrniTw</td>\n",
       "      <td>16567</td>\n",
       "    </tr>\n",
       "    <tr>\n",
       "      <th>346872</th>\n",
       "      <td>hWDybu_KvYLSdEFzGrniTw</td>\n",
       "      <td>16567</td>\n",
       "    </tr>\n",
       "    <tr>\n",
       "      <th>364599</th>\n",
       "      <td>8RcEwGrFIgkt9WQ35E6SnQ</td>\n",
       "      <td>7738</td>\n",
       "    </tr>\n",
       "    <tr>\n",
       "      <th>243798</th>\n",
       "      <td>8RcEwGrFIgkt9WQ35E6SnQ</td>\n",
       "      <td>7738</td>\n",
       "    </tr>\n",
       "    <tr>\n",
       "      <th>150319</th>\n",
       "      <td>8RcEwGrFIgkt9WQ35E6SnQ</td>\n",
       "      <td>7738</td>\n",
       "    </tr>\n",
       "    <tr>\n",
       "      <th>150318</th>\n",
       "      <td>8RcEwGrFIgkt9WQ35E6SnQ</td>\n",
       "      <td>7738</td>\n",
       "    </tr>\n",
       "    <tr>\n",
       "      <th>150317</th>\n",
       "      <td>8RcEwGrFIgkt9WQ35E6SnQ</td>\n",
       "      <td>7738</td>\n",
       "    </tr>\n",
       "    <tr>\n",
       "      <th>97611</th>\n",
       "      <td>8RcEwGrFIgkt9WQ35E6SnQ</td>\n",
       "      <td>7738</td>\n",
       "    </tr>\n",
       "    <tr>\n",
       "      <th>97612</th>\n",
       "      <td>8RcEwGrFIgkt9WQ35E6SnQ</td>\n",
       "      <td>7738</td>\n",
       "    </tr>\n",
       "    <tr>\n",
       "      <th>97613</th>\n",
       "      <td>8RcEwGrFIgkt9WQ35E6SnQ</td>\n",
       "      <td>7738</td>\n",
       "    </tr>\n",
       "  </tbody>\n",
       "</table>\n",
       "</div>"
      ],
      "text/plain": [
       "                       user_id  review_count\n",
       "285325  Hi10sGSZNxQH3NLyWSZ1oA         17473\n",
       "118043  Hi10sGSZNxQH3NLyWSZ1oA         17473\n",
       "196014  Hi10sGSZNxQH3NLyWSZ1oA         17473\n",
       "166651  Hi10sGSZNxQH3NLyWSZ1oA         17473\n",
       "346870  hWDybu_KvYLSdEFzGrniTw         16567\n",
       "346871  hWDybu_KvYLSdEFzGrniTw         16567\n",
       "346872  hWDybu_KvYLSdEFzGrniTw         16567\n",
       "364599  8RcEwGrFIgkt9WQ35E6SnQ          7738\n",
       "243798  8RcEwGrFIgkt9WQ35E6SnQ          7738\n",
       "150319  8RcEwGrFIgkt9WQ35E6SnQ          7738\n",
       "150318  8RcEwGrFIgkt9WQ35E6SnQ          7738\n",
       "150317  8RcEwGrFIgkt9WQ35E6SnQ          7738\n",
       "97611   8RcEwGrFIgkt9WQ35E6SnQ          7738\n",
       "97612   8RcEwGrFIgkt9WQ35E6SnQ          7738\n",
       "97613   8RcEwGrFIgkt9WQ35E6SnQ          7738"
      ]
     },
     "execution_count": 29,
     "metadata": {},
     "output_type": "execute_result"
    }
   ],
   "source": [
    "usr3=usr[['user_id', 'review_count']].sort_values(by='review_count', ascending=False).head(15)\n",
    "usr3"
   ]
  },
  {
   "cell_type": "markdown",
   "metadata": {},
   "source": [
    "analisis de la grafica: La grafica solo muestra los primeros 15 y como se encuentran duplicados solo aparecen 3 usuarios aun asi el analisis es correcto, pero los datos muestran que pudieron ser generados ya que hay similitudes muy peculiares en los datos, agruparlos y hacerlos parecer una suma creo que no seria considerado un analisis de datos por eso lo dejo asi."
   ]
  },
  {
   "cell_type": "code",
   "execution_count": 30,
   "metadata": {},
   "outputs": [
    {
     "name": "stderr",
     "output_type": "stream",
     "text": [
      "/var/folders/w5/r6_nbnhj29l7td33bhmpmz180000gn/T/ipykernel_7333/4185709009.py:1: FutureWarning: \n",
      "\n",
      "Passing `palette` without assigning `hue` is deprecated and will be removed in v0.14.0. Assign the `x` variable to `hue` and set `legend=False` for the same effect.\n",
      "\n",
      "  sns.catplot(data=usr3, x=\"user_id\", y=\"review_count\", kind=\"bar\", palette=\"plasma\")\n"
     ]
    },
    {
     "data": {
      "image/png": "[encoded data removed]",
      "text/plain": [
       "<Figure size 500x500 with 1 Axes>"
      ]
     },
     "metadata": {},
     "output_type": "display_data"
    }
   ],
   "source": [
    "sns.catplot(data=usr3, x=\"user_id\", y=\"review_count\", kind=\"bar\", palette=\"plasma\")\n",
    "plt.xticks(rotation=90)\n",
    "plt.show()"
   ]
  },
  {
   "cell_type": "markdown",
   "metadata": {},
   "source": [
    "# Que se realizo en este EDA:"
   ]
  },
  {
   "cell_type": "markdown",
   "metadata": {},
   "source": [
    " Como analisis exploratorio de los datos, creo que es suficiente para conocer los datos a trabajar y que se puede \n",
    " hacer con ellos, tambien que informacion es importante y que otra podria solo tener valor si se llega a hacer merges 'uniones', entre las \n",
    " tablas pero como no es un trabajo de transformacion me abstube de hacer esto ultimo y solo me dedique a analizar en lo que se iba a trabajar en este proyecto "
   ]
  }
 ],
 "metadata": {
  "kernelspec": {
   "display_name": "Python 3",
   "language": "python",
   "name": "python3"
  },
  "language_info": {
   "codemirror_mode": {
    "name": "ipython",
    "version": 3
   },
   "file_extension": ".py",
   "mimetype": "text/x-python",
   "name": "python",
   "nbconvert_exporter": "python",
   "pygments_lexer": "ipython3",
   "version": "3.12.2"
  }
 },
 "nbformat": 4,
 "nbformat_minor": 2
}
